
  {
   "cell_type": "code",
   "execution_count": 1,
   "id": "c458d35a",
   "metadata": {
    "execution": {
     "iopub.execute_input": "2022-10-19T10:53:55.593413Z",
     "iopub.status.busy": "2022-10-19T10:53:55.592991Z",
     "iopub.status.idle": "2022-10-19T10:53:55.625090Z",
     "shell.execute_reply": "2022-10-19T10:53:55.624272Z"
    },
    "papermill": {
     "duration": 0.046486,
     "end_time": "2022-10-19T10:53:55.627530",
     "exception": false,
     "start_time": "2022-10-19T10:53:55.581044",
     "status": "completed"
    },
    "tags": []
   },
   "outputs": [],
   "source": [
    "import pandas as pd\n",
    "df = pd.read_csv(\"../input/persona-dataset/persona.csv\")"
   ]
  },
  {
   "cell_type": "markdown",
   "id": "aa2c3321",
   "metadata": {
    "papermill": {
     "duration": 0.010008,
     "end_time": "2022-10-19T10:53:55.648242",
     "exception": false,
     "start_time": "2022-10-19T10:53:55.638234",
     "status": "completed"
    },
    "tags": []
   },
   "source": [
    "**DATA EXPLORATION**"
   ]
  },
  {
   "cell_type": "code",
   "execution_count": 2,
   "id": "994732c0",
   "metadata": {
    "execution": {
     "iopub.execute_input": "2022-10-19T10:53:55.671309Z",
     "iopub.status.busy": "2022-10-19T10:53:55.670217Z",
     "iopub.status.idle": "2022-10-19T10:53:55.679495Z",
     "shell.execute_reply": "2022-10-19T10:53:55.678353Z"
    },
    "papermill": {
     "duration": 0.023053,
     "end_time": "2022-10-19T10:53:55.681615",
     "exception": false,
     "start_time": "2022-10-19T10:53:55.658562",
     "status": "completed"
    },
    "tags": []
   },
   "outputs": [
    {
     "data": {
      "text/plain": [
       "(5000, 5)"
      ]
     },
     "execution_count": 2,
     "metadata": {},
     "output_type": "execute_result"
    }
   ],
   "source": [
    "df.shape"
   ]
  },
  {
   "cell_type": "code",
   "execution_count": 3,
   "id": "e9552fab",
   "metadata": {
    "execution": {
     "iopub.execute_input": "2022-10-19T10:53:55.704804Z",
     "iopub.status.busy": "2022-10-19T10:53:55.703777Z",
     "iopub.status.idle": "2022-10-19T10:53:55.733135Z",
     "shell.execute_reply": "2022-10-19T10:53:55.731778Z"
    },
    "papermill": {
     "duration": 0.04472,
     "end_time": "2022-10-19T10:53:55.736901",
     "exception": false,
     "start_time": "2022-10-19T10:53:55.692181",
     "status": "completed"
    },
    "tags": []
   },
   "outputs": [
    {
     "name": "stdout",
     "output_type": "stream",
     "text": [
      "<class 'pandas.core.frame.DataFrame'>\n",
      "Int64Index: 5000 entries, 0 to 4999\n",
      "Data columns (total 5 columns):\n",
      " #   Column   Non-Null Count  Dtype \n",
      "---  ------   --------------  ----- \n",
      " 0   PRICE    5000 non-null   int64 \n",
      " 1   SOURCE   5000 non-null   object\n",
      " 2   SEX      5000 non-null   object\n",
      " 3   COUNTRY  5000 non-null   object\n",
      " 4   AGE      5000 non-null   int64 \n",
      "dtypes: int64(2), object(3)\n",
      "memory usage: 234.4+ KB\n"
     ]
    }
   ],
   "source": [
    "df.info()"
   ]
  },
  {
   "cell_type": "code",
   "execution_count": 4,
   "id": "306867e5",
   "metadata": {
    "execution": {
     "iopub.execute_input": "2022-10-19T10:53:55.762993Z",
     "iopub.status.busy": "2022-10-19T10:53:55.762225Z",
     "iopub.status.idle": "2022-10-19T10:53:55.790732Z",
     "shell.execute_reply": "2022-10-19T10:53:55.789591Z"
    },
    "papermill": {
     "duration": 0.043184,
     "end_time": "2022-10-19T10:53:55.793052",
     "exception": false,
     "start_time": "2022-10-19T10:53:55.749868",
     "status": "completed"
    },
    "tags": []
   },
   "outputs": [
    {
     "data": {
      "text/html": [
       "<div>\n",
       "<style scoped>\n",
       "    .dataframe tbody tr th:only-of-type {\n",
       "        vertical-align: middle;\n",
       "    }\n",
       "\n",
       "    .dataframe tbody tr th {\n",
       "        vertical-align: top;\n",
       "    }\n",
       "\n",
       "    .dataframe thead th {\n",
       "        text-align: right;\n",
       "    }\n",
       "</style>\n",
       "<table border=\"1\" class=\"dataframe\">\n",
       "  <thead>\n",
       "    <tr style=\"text-align: right;\">\n",
       "      <th></th>\n",
       "      <th>PRICE</th>\n",
       "      <th>AGE</th>\n",
       "    </tr>\n",
       "  </thead>\n",
       "  <tbody>\n",
       "    <tr>\n",
       "      <th>count</th>\n",
       "      <td>5000.000000</td>\n",
       "      <td>5000.000000</td>\n",
       "    </tr>\n",
       "    <tr>\n",
       "      <th>mean</th>\n",
       "      <td>34.132000</td>\n",
       "      <td>23.581400</td>\n",
       "    </tr>\n",
       "    <tr>\n",
       "      <th>std</th>\n",
       "      <td>12.464897</td>\n",
       "      <td>8.995908</td>\n",
       "    </tr>\n",
       "    <tr>\n",
       "      <th>min</th>\n",
       "      <td>9.000000</td>\n",
       "      <td>15.000000</td>\n",
       "    </tr>\n",
       "    <tr>\n",
       "      <th>25%</th>\n",
       "      <td>29.000000</td>\n",
       "      <td>17.000000</td>\n",
       "    </tr>\n",
       "    <tr>\n",
       "      <th>50%</th>\n",
       "      <td>39.000000</td>\n",
       "      <td>21.000000</td>\n",
       "    </tr>\n",
       "    <tr>\n",
       "      <th>75%</th>\n",
       "      <td>39.000000</td>\n",
       "      <td>27.000000</td>\n",
       "    </tr>\n",
       "    <tr>\n",
       "      <th>max</th>\n",
       "      <td>59.000000</td>\n",
       "      <td>66.000000</td>\n",
       "    </tr>\n",
       "  </tbody>\n",
       "</table>\n",
       "</div>"
      ],
      "text/plain": [
       "             PRICE          AGE\n",
       "count  5000.000000  5000.000000\n",
       "mean     34.132000    23.581400\n",
       "std      12.464897     8.995908\n",
       "min       9.000000    15.000000\n",
       "25%      29.000000    17.000000\n",
       "50%      39.000000    21.000000\n",
       "75%      39.000000    27.000000\n",
       "max      59.000000    66.000000"
      ]
     },
     "execution_count": 4,
     "metadata": {},
     "output_type": "execute_result"
    }
   ],
   "source": [
    "df.describe()"
   ]
  },
  {
   "cell_type": "markdown",
   "id": "0ba5effb",
   "metadata": {
    "papermill": {
     "duration": 0.010317,
     "end_time": "2022-10-19T10:53:55.814351",
     "exception": false,
     "start_time": "2022-10-19T10:53:55.804034",
     "status": "completed"
    },
    "tags": []
   },
   "source": [
    "**Number of unique source**"
   ]
  },
  {
   "cell_type": "code",
   "execution_count": 5,
   "id": "66a5bc73",
   "metadata": {
    "execution": {
     "iopub.execute_input": "2022-10-19T10:53:55.837416Z",
     "iopub.status.busy": "2022-10-19T10:53:55.836524Z",
     "iopub.status.idle": "2022-10-19T10:53:55.842991Z",
     "shell.execute_reply": "2022-10-19T10:53:55.842263Z"
    },
    "papermill": {
     "duration": 0.020037,
     "end_time": "2022-10-19T10:53:55.844934",
     "exception": false,
     "start_time": "2022-10-19T10:53:55.824897",
     "status": "completed"
    },
    "tags": []
   },
   "outputs": [
    {
     "data": {
      "text/plain": [
       "2"
      ]
     },
     "execution_count": 5,
     "metadata": {},
     "output_type": "execute_result"
    }
   ],
   "source": [
    "df[\"SOURCE\"].nunique()"
   ]
  },
  {
   "cell_type": "markdown",
   "id": "17c5316b",
   "metadata": {
    "papermill": {
     "duration": 0.010747,
     "end_time": "2022-10-19T10:53:55.866778",
     "exception": false,
     "start_time": "2022-10-19T10:53:55.856031",
     "status": "completed"
    },
    "tags": []
   },
   "source": [
    "**Frequency of source**"
   ]
  },
  {
   "cell_type": "code",
   "execution_count": 6,
   "id": "a8d97793",
   "metadata": {
    "execution": {
     "iopub.execute_input": "2022-10-19T10:53:55.889972Z",
     "iopub.status.busy": "2022-10-19T10:53:55.889584Z",
     "iopub.status.idle": "2022-10-19T10:53:55.898056Z",
     "shell.execute_reply": "2022-10-19T10:53:55.897064Z"
    },
    "papermill": {
     "duration": 0.022394,
     "end_time": "2022-10-19T10:53:55.900098",
     "exception": false,
     "start_time": "2022-10-19T10:53:55.877704",
     "status": "completed"
    },
    "tags": []
   },
   "outputs": [
    {
     "data": {
      "text/plain": [
       "android    2974\n",
       "ios        2026\n",
       "Name: SOURCE, dtype: int64"
      ]
     },
     "execution_count": 6,
     "metadata": {},
     "output_type": "execute_result"
    }
   ],
   "source": [
    "df[\"SOURCE\"].value_counts()"
   ]
  },
  {
   "cell_type": "markdown",
   "id": "1bc73963",
   "metadata": {
    "papermill": {
     "duration": 0.010622,
     "end_time": "2022-10-19T10:53:55.921720",
     "exception": false,
     "start_time": "2022-10-19T10:53:55.911098",
     "status": "completed"
    },
    "tags": []
   },
   "source": [
    "**Number of unique price**"
   ]
  },
  {
   "cell_type": "code",
   "execution_count": 7,
   "id": "64864b77",
   "metadata": {
    "execution": {
     "iopub.execute_input": "2022-10-19T10:53:55.945733Z",
     "iopub.status.busy": "2022-10-19T10:53:55.945063Z",
     "iopub.status.idle": "2022-10-19T10:53:55.952420Z",
     "shell.execute_reply": "2022-10-19T10:53:55.951472Z"
    },
    "papermill": {
     "duration": 0.021434,
     "end_time": "2022-10-19T10:53:55.954396",
     "exception": false,
     "start_time": "2022-10-19T10:53:55.932962",
     "status": "completed"
    },
    "tags": []
   },
   "outputs": [
    {
     "data": {
      "text/plain": [
       "6"
      ]
     },
     "execution_count": 7,
     "metadata": {},
     "output_type": "execute_result"
    }
   ],
   "source": [
    "df[\"PRICE\"].nunique()"
   ]
  },
  {
   "cell_type": "markdown",
   "id": "08bf72fe",
   "metadata": {
    "papermill": {
     "duration": 0.011566,
     "end_time": "2022-10-19T10:53:55.977128",
     "exception": false,
     "start_time": "2022-10-19T10:53:55.965562",
     "status": "completed"
    },
    "tags": []
   },
   "source": [
    "**Number of sales by price**"
   ]
  },
  {
   "cell_type": "code",
   "execution_count": 8,
   "id": "91e6cb1b",
   "metadata": {
    "execution": {
     "iopub.execute_input": "2022-10-19T10:53:56.000515Z",
     "iopub.status.busy": "2022-10-19T10:53:56.000133Z",
     "iopub.status.idle": "2022-10-19T10:53:56.007587Z",
     "shell.execute_reply": "2022-10-19T10:53:56.006631Z"
    },
    "papermill": {
     "duration": 0.021541,
     "end_time": "2022-10-19T10:53:56.009631",
     "exception": false,
     "start_time": "2022-10-19T10:53:55.988090",
     "status": "completed"
    },
    "tags": []
   },
   "outputs": [
    {
     "data": {
      "text/plain": [
       "29    1305\n",
       "39    1260\n",
       "49    1031\n",
       "19     992\n",
       "59     212\n",
       "9      200\n",
       "Name: PRICE, dtype: int64"
      ]
     },
     "execution_count": 8,
     "metadata": {},
     "output_type": "execute_result"
    }
   ],
   "source": [
    "df[\"PRICE\"].value_counts()"
   ]
  },
  {
   "cell_type": "markdown",
   "id": "bc19eafd",
   "metadata": {
    "papermill": {
     "duration": 0.010552,
     "end_time": "2022-10-19T10:53:56.031124",
     "exception": false,
     "start_time": "2022-10-19T10:53:56.020572",
     "status": "completed"
    },
    "tags": []
   },
   "source": [
    "**Number of sales by country**"
   ]
  },
  {
   "cell_type": "code",
   "execution_count": 9,
   "id": "858444ff",
   "metadata": {
    "execution": {
     "iopub.execute_input": "2022-10-19T10:53:56.054131Z",
     "iopub.status.busy": "2022-10-19T10:53:56.053801Z",
     "iopub.status.idle": "2022-10-19T10:53:56.061605Z",
     "shell.execute_reply": "2022-10-19T10:53:56.060659Z"
    },
    "papermill": {
     "duration": 0.021496,
     "end_time": "2022-10-19T10:53:56.063572",
     "exception": false,
     "start_time": "2022-10-19T10:53:56.042076",
     "status": "completed"
    },
    "tags": []
   },
   "outputs": [
    {
     "data": {
      "text/plain": [
       "usa    2065\n",
       "bra    1496\n",
       "deu     455\n",
       "tur     451\n",
       "fra     303\n",
       "can     230\n",
       "Name: COUNTRY, dtype: int64"
      ]
     },
     "execution_count": 9,
     "metadata": {},
     "output_type": "execute_result"
    }
   ],
   "source": [
    "df[\"COUNTRY\"].value_counts()"
   ]
  },
  {
   "cell_type": "markdown",
   "id": "44839edf",
   "metadata": {
    "papermill": {
     "duration": 0.010737,
     "end_time": "2022-10-19T10:53:56.085398",
     "exception": false,
     "start_time": "2022-10-19T10:53:56.074661",
     "status": "completed"
    },
    "tags": []
   },
   "source": [
    "**Total earned revenue from sales by country**"
   ]
  },
  {
   "cell_type": "code",
   "execution_count": 10,
   "id": "8d854b9b",
   "metadata": {
    "execution": {
     "iopub.execute_input": "2022-10-19T10:53:56.110638Z",
     "iopub.status.busy": "2022-10-19T10:53:56.110173Z",
     "iopub.status.idle": "2022-10-19T10:53:56.124632Z",
     "shell.execute_reply": "2022-10-19T10:53:56.123239Z"
    },
    "papermill": {
     "duration": 0.030656,
     "end_time": "2022-10-19T10:53:56.127998",
     "exception": false,
     "start_time": "2022-10-19T10:53:56.097342",
     "status": "completed"
    },
    "tags": []
   },
   "outputs": [
    {
     "data": {
      "text/html": [
       "<div>\n",
       "<style scoped>\n",
       "    .dataframe tbody tr th:only-of-type {\n",
       "        vertical-align: middle;\n",
       "    }\n",
       "\n",
       "    .dataframe tbody tr th {\n",
       "        vertical-align: top;\n",
       "    }\n",
       "\n",
       "    .dataframe thead th {\n",
       "        text-align: right;\n",
       "    }\n",
       "</style>\n",
       "<table border=\"1\" class=\"dataframe\">\n",
       "  <thead>\n",
       "    <tr style=\"text-align: right;\">\n",
       "      <th></th>\n",
       "      <th>PRICE</th>\n",
       "    </tr>\n",
       "    <tr>\n",
       "      <th>COUNTRY</th>\n",
       "      <th></th>\n",
       "    </tr>\n",
       "  </thead>\n",
       "  <tbody>\n",
       "    <tr>\n",
       "      <th>bra</th>\n",
       "      <td>51354</td>\n",
       "    </tr>\n",
       "    <tr>\n",
       "      <th>can</th>\n",
       "      <td>7730</td>\n",
       "    </tr>\n",
       "    <tr>\n",
       "      <th>deu</th>\n",
       "      <td>15485</td>\n",
       "    </tr>\n",
       "    <tr>\n",
       "      <th>fra</th>\n",
       "      <td>10177</td>\n",
       "    </tr>\n",
       "    <tr>\n",
       "      <th>tur</th>\n",
       "      <td>15689</td>\n",
       "    </tr>\n",
       "    <tr>\n",
       "      <th>usa</th>\n",
       "      <td>70225</td>\n",
       "    </tr>\n",
       "  </tbody>\n",
       "</table>\n",
       "</div>"
      ],
      "text/plain": [
       "         PRICE\n",
       "COUNTRY       \n",
       "bra      51354\n",
       "can       7730\n",
       "deu      15485\n",
       "fra      10177\n",
       "tur      15689\n",
       "usa      70225"
      ]
     },
     "execution_count": 10,
     "metadata": {},
     "output_type": "execute_result"
    }
   ],
   "source": [
    "df.groupby(\"COUNTRY\").agg({\"PRICE\" : \"sum\"})"
   ]
  },
  {
   "cell_type": "markdown",
   "id": "4c5d92dc",
   "metadata": {
    "papermill": {
     "duration": 0.014189,
     "end_time": "2022-10-19T10:53:56.155562",
     "exception": false,
     "start_time": "2022-10-19T10:53:56.141373",
     "status": "completed"
    },
    "tags": []
   },
   "source": [
    "**Number of sales by source types**"
   ]
  },
  {
   "cell_type": "code",
   "execution_count": 11,
   "id": "aac20e49",
   "metadata": {
    "execution": {
     "iopub.execute_input": "2022-10-19T10:53:56.185256Z",
     "iopub.status.busy": "2022-10-19T10:53:56.184440Z",
     "iopub.status.idle": "2022-10-19T10:53:56.196377Z",
     "shell.execute_reply": "2022-10-19T10:53:56.195460Z"
    },
    "papermill": {
     "duration": 0.027323,
     "end_time": "2022-10-19T10:53:56.198588",
     "exception": false,
     "start_time": "2022-10-19T10:53:56.171265",
     "status": "completed"
    },
    "tags": []
   },
   "outputs": [
    {
     "data": {
      "text/html": [
       "<div>\n",
       "<style scoped>\n",
       "    .dataframe tbody tr th:only-of-type {\n",
       "        vertical-align: middle;\n",
       "    }\n",
       "\n",
       "    .dataframe tbody tr th {\n",
       "        vertical-align: top;\n",
       "    }\n",
       "\n",
       "    .dataframe thead th {\n",
       "        text-align: right;\n",
       "    }\n",
       "</style>\n",
       "<table border=\"1\" class=\"dataframe\">\n",
       "  <thead>\n",
       "    <tr style=\"text-align: right;\">\n",
       "      <th></th>\n",
       "      <th>PRICE</th>\n",
       "    </tr>\n",
       "    <tr>\n",
       "      <th>SOURCE</th>\n",
       "      <th></th>\n",
       "    </tr>\n",
       "  </thead>\n",
       "  <tbody>\n",
       "    <tr>\n",
       "      <th>android</th>\n",
       "      <td>2974</td>\n",
       "    </tr>\n",
       "    <tr>\n",
       "      <th>ios</th>\n",
       "      <td>2026</td>\n",
       "    </tr>\n",
       "  </tbody>\n",
       "</table>\n",
       "</div>"
      ],
      "text/plain": [
       "         PRICE\n",
       "SOURCE        \n",
       "android   2974\n",
       "ios       2026"
      ]
     },
     "execution_count": 11,
     "metadata": {},
     "output_type": "execute_result"
    }
   ],
   "source": [
    "df.groupby(\"SOURCE\").agg({\"PRICE\" : \"count\"})"
   ]
  },
  {
   "cell_type": "markdown",
   "id": "e6ac786e",
   "metadata": {
    "papermill": {
     "duration": 0.011122,
     "end_time": "2022-10-19T10:53:56.221376",
     "exception": false,
     "start_time": "2022-10-19T10:53:56.210254",
     "status": "completed"
    },
    "tags": []
   },
   "source": [
    "**Price averages by country**"
   ]
  },
  {
   "cell_type": "code",
   "execution_count": 12,
   "id": "5442fd3f",
   "metadata": {
    "execution": {
     "iopub.execute_input": "2022-10-19T10:53:56.246207Z",
     "iopub.status.busy": "2022-10-19T10:53:56.245591Z",
     "iopub.status.idle": "2022-10-19T10:53:56.261365Z",
     "shell.execute_reply": "2022-10-19T10:53:56.260339Z"
    },
    "papermill": {
     "duration": 0.031872,
     "end_time": "2022-10-19T10:53:56.264844",
     "exception": false,
     "start_time": "2022-10-19T10:53:56.232972",
     "status": "completed"
    },
    "tags": []
   },
   "outputs": [
    {
     "data": {
      "text/html": [
       "<div>\n",
       "<style scoped>\n",
       "    .dataframe tbody tr th:only-of-type {\n",
       "        vertical-align: middle;\n",
       "    }\n",
       "\n",
       "    .dataframe tbody tr th {\n",
       "        vertical-align: top;\n",
       "    }\n",
       "\n",
       "    .dataframe thead th {\n",
       "        text-align: right;\n",
       "    }\n",
       "</style>\n",
       "<table border=\"1\" class=\"dataframe\">\n",
       "  <thead>\n",
       "    <tr style=\"text-align: right;\">\n",
       "      <th></th>\n",
       "      <th>PRICE</th>\n",
       "    </tr>\n",
       "    <tr>\n",
       "      <th>COUNTRY</th>\n",
       "      <th></th>\n",
       "    </tr>\n",
       "  </thead>\n",
       "  <tbody>\n",
       "    <tr>\n",
       "      <th>bra</th>\n",
       "      <td>34.327540</td>\n",
       "    </tr>\n",
       "    <tr>\n",
       "      <th>can</th>\n",
       "      <td>33.608696</td>\n",
       "    </tr>\n",
       "    <tr>\n",
       "      <th>deu</th>\n",
       "      <td>34.032967</td>\n",
       "    </tr>\n",
       "    <tr>\n",
       "      <th>fra</th>\n",
       "      <td>33.587459</td>\n",
       "    </tr>\n",
       "    <tr>\n",
       "      <th>tur</th>\n",
       "      <td>34.787140</td>\n",
       "    </tr>\n",
       "    <tr>\n",
       "      <th>usa</th>\n",
       "      <td>34.007264</td>\n",
       "    </tr>\n",
       "  </tbody>\n",
       "</table>\n",
       "</div>"
      ],
      "text/plain": [
       "             PRICE\n",
       "COUNTRY           \n",
       "bra      34.327540\n",
       "can      33.608696\n",
       "deu      34.032967\n",
       "fra      33.587459\n",
       "tur      34.787140\n",
       "usa      34.007264"
      ]
     },
     "execution_count": 12,
     "metadata": {},
     "output_type": "execute_result"
    }
   ],
   "source": [
    "df.groupby(\"COUNTRY\").agg({\"PRICE\" : \"mean\"})"
   ]
  },
  {
   "cell_type": "markdown",
   "id": "67e3747a",
   "metadata": {
    "papermill": {
     "duration": 0.012773,
     "end_time": "2022-10-19T10:53:56.292539",
     "exception": false,
     "start_time": "2022-10-19T10:53:56.279766",
     "status": "completed"
    },
    "tags": []
   },
   "source": [
    "**Price averages by sources**"
   ]
  },
  {
   "cell_type": "code",
   "execution_count": 13,
   "id": "f6c674ce",
   "metadata": {
    "execution": {
     "iopub.execute_input": "2022-10-19T10:53:56.319796Z",
     "iopub.status.busy": "2022-10-19T10:53:56.319066Z",
     "iopub.status.idle": "2022-10-19T10:53:56.331491Z",
     "shell.execute_reply": "2022-10-19T10:53:56.330622Z"
    },
    "papermill": {
     "duration": 0.027971,
     "end_time": "2022-10-19T10:53:56.333598",
     "exception": false,
     "start_time": "2022-10-19T10:53:56.305627",
     "status": "completed"
    },
    "tags": []
   },
   "outputs": [
    {
     "data": {
      "text/html": [
       "<div>\n",
       "<style scoped>\n",
       "    .dataframe tbody tr th:only-of-type {\n",
       "        vertical-align: middle;\n",
       "    }\n",
       "\n",
       "    .dataframe tbody tr th {\n",
       "        vertical-align: top;\n",
       "    }\n",
       "\n",
       "    .dataframe thead th {\n",
       "        text-align: right;\n",
       "    }\n",
       "</style>\n",
       "<table border=\"1\" class=\"dataframe\">\n",
       "  <thead>\n",
       "    <tr style=\"text-align: right;\">\n",
       "      <th></th>\n",
       "      <th>PRICE</th>\n",
       "    </tr>\n",
       "    <tr>\n",
       "      <th>SOURCE</th>\n",
       "      <th></th>\n",
       "    </tr>\n",
       "  </thead>\n",
       "  <tbody>\n",
       "    <tr>\n",
       "      <th>android</th>\n",
       "      <td>34.174849</td>\n",
       "    </tr>\n",
       "    <tr>\n",
       "      <th>ios</th>\n",
       "      <td>34.069102</td>\n",
       "    </tr>\n",
       "  </tbody>\n",
       "</table>\n",
       "</div>"
      ],
      "text/plain": [
       "             PRICE\n",
       "SOURCE            \n",
       "android  34.174849\n",
       "ios      34.069102"
      ]
     },
     "execution_count": 13,
     "metadata": {},
     "output_type": "execute_result"
    }
   ],
   "source": [
    "df.groupby(\"SOURCE\").agg({\"PRICE\" : \"mean\"})"
   ]
  },
  {
   "cell_type": "markdown",
   "id": "0398e437",
   "metadata": {
    "papermill": {
     "duration": 0.01121,
     "end_time": "2022-10-19T10:53:56.356141",
     "exception": false,
     "start_time": "2022-10-19T10:53:56.344931",
     "status": "completed"
    },
    "tags": []
   },
   "source": [
    "**Price averages by Country and Source**"
   ]
  },
  {
   "cell_type": "code",
   "execution_count": 14,
   "id": "1a83c7a8",
   "metadata": {
    "execution": {
     "iopub.execute_input": "2022-10-19T10:53:56.383510Z",
     "iopub.status.busy": "2022-10-19T10:53:56.382909Z",
     "iopub.status.idle": "2022-10-19T10:53:56.396289Z",
     "shell.execute_reply": "2022-10-19T10:53:56.395314Z"
    },
    "papermill": {
     "duration": 0.030774,
     "end_time": "2022-10-19T10:53:56.398539",
     "exception": false,
     "start_time": "2022-10-19T10:53:56.367765",
     "status": "completed"
    },
    "tags": []
   },
   "outputs": [
    {
     "data": {
      "text/html": [
       "<div>\n",
       "<style scoped>\n",
       "    .dataframe tbody tr th:only-of-type {\n",
       "        vertical-align: middle;\n",
       "    }\n",
       "\n",
       "    .dataframe tbody tr th {\n",
       "        vertical-align: top;\n",
       "    }\n",
       "\n",
       "    .dataframe thead th {\n",
       "        text-align: right;\n",
       "    }\n",
       "</style>\n",
       "<table border=\"1\" class=\"dataframe\">\n",
       "  <thead>\n",
       "    <tr style=\"text-align: right;\">\n",
       "      <th></th>\n",
       "      <th></th>\n",
       "      <th>PRICE</th>\n",
       "    </tr>\n",
       "    <tr>\n",
       "      <th>COUNTRY</th>\n",
       "      <th>SOURCE</th>\n",
       "      <th></th>\n",
       "    </tr>\n",
       "  </thead>\n",
       "  <tbody>\n",
       "    <tr>\n",
       "      <th rowspan=\"2\" valign=\"top\">bra</th>\n",
       "      <th>android</th>\n",
       "      <td>34.387029</td>\n",
       "    </tr>\n",
       "    <tr>\n",
       "      <th>ios</th>\n",
       "      <td>34.222222</td>\n",
       "    </tr>\n",
       "    <tr>\n",
       "      <th rowspan=\"2\" valign=\"top\">can</th>\n",
       "      <th>android</th>\n",
       "      <td>33.330709</td>\n",
       "    </tr>\n",
       "    <tr>\n",
       "      <th>ios</th>\n",
       "      <td>33.951456</td>\n",
       "    </tr>\n",
       "    <tr>\n",
       "      <th rowspan=\"2\" valign=\"top\">deu</th>\n",
       "      <th>android</th>\n",
       "      <td>33.869888</td>\n",
       "    </tr>\n",
       "    <tr>\n",
       "      <th>ios</th>\n",
       "      <td>34.268817</td>\n",
       "    </tr>\n",
       "    <tr>\n",
       "      <th rowspan=\"2\" valign=\"top\">fra</th>\n",
       "      <th>android</th>\n",
       "      <td>34.312500</td>\n",
       "    </tr>\n",
       "    <tr>\n",
       "      <th>ios</th>\n",
       "      <td>32.776224</td>\n",
       "    </tr>\n",
       "    <tr>\n",
       "      <th rowspan=\"2\" valign=\"top\">tur</th>\n",
       "      <th>android</th>\n",
       "      <td>36.229437</td>\n",
       "    </tr>\n",
       "    <tr>\n",
       "      <th>ios</th>\n",
       "      <td>33.272727</td>\n",
       "    </tr>\n",
       "    <tr>\n",
       "      <th rowspan=\"2\" valign=\"top\">usa</th>\n",
       "      <th>android</th>\n",
       "      <td>33.760357</td>\n",
       "    </tr>\n",
       "    <tr>\n",
       "      <th>ios</th>\n",
       "      <td>34.371703</td>\n",
       "    </tr>\n",
       "  </tbody>\n",
       "</table>\n",
       "</div>"
      ],
      "text/plain": [
       "                     PRICE\n",
       "COUNTRY SOURCE            \n",
       "bra     android  34.387029\n",
       "        ios      34.222222\n",
       "can     android  33.330709\n",
       "        ios      33.951456\n",
       "deu     android  33.869888\n",
       "        ios      34.268817\n",
       "fra     android  34.312500\n",
       "        ios      32.776224\n",
       "tur     android  36.229437\n",
       "        ios      33.272727\n",
       "usa     android  33.760357\n",
       "        ios      34.371703"
      ]
     },
     "execution_count": 14,
     "metadata": {},
     "output_type": "execute_result"
    }
   ],
   "source": [
    "df.groupby([\"COUNTRY\", \"SOURCE\"]).agg({\"PRICE\" : \"mean\"})"
   ]
  },
  {
   "cell_type": "markdown",
   "id": "792395cc",
   "metadata": {
    "papermill": {
     "duration": 0.012002,
     "end_time": "2022-10-19T10:53:56.422321",
     "exception": false,
     "start_time": "2022-10-19T10:53:56.410319",
     "status": "completed"
    },
    "tags": []
   },
   "source": [
    "**Average earnings by Country, Source, Sex and Age**"
   ]
  },
  {
   "cell_type": "code",
   "execution_count": 15,
   "id": "2d5b8746",
   "metadata": {
    "execution": {
     "iopub.execute_input": "2022-10-19T10:53:56.448387Z",
     "iopub.status.busy": "2022-10-19T10:53:56.447192Z",
     "iopub.status.idle": "2022-10-19T10:53:56.474372Z",
     "shell.execute_reply": "2022-10-19T10:53:56.473634Z"
    },
    "papermill": {
     "duration": 0.042079,
     "end_time": "2022-10-19T10:53:56.476240",
     "exception": false,
     "start_time": "2022-10-19T10:53:56.434161",
     "status": "completed"
    },
    "tags": []
   },
   "outputs": [
    {
     "data": {
      "text/html": [
       "<div>\n",
       "<style scoped>\n",
       "    .dataframe tbody tr th:only-of-type {\n",
       "        vertical-align: middle;\n",
       "    }\n",
       "\n",
       "    .dataframe tbody tr th {\n",
       "        vertical-align: top;\n",
       "    }\n",
       "\n",
       "    .dataframe thead th {\n",
       "        text-align: right;\n",
       "    }\n",
       "</style>\n",
       "<table border=\"1\" class=\"dataframe\">\n",
       "  <thead>\n",
       "    <tr style=\"text-align: right;\">\n",
       "      <th></th>\n",
       "      <th></th>\n",
       "      <th></th>\n",
       "      <th></th>\n",
       "      <th>PRICE</th>\n",
       "    </tr>\n",
       "    <tr>\n",
       "      <th>COUNTRY</th>\n",
       "      <th>SOURCE</th>\n",
       "      <th>SEX</th>\n",
       "      <th>AGE</th>\n",
       "      <th></th>\n",
       "    </tr>\n",
       "  </thead>\n",
       "  <tbody>\n",
       "    <tr>\n",
       "      <th rowspan=\"5\" valign=\"top\">bra</th>\n",
       "      <th rowspan=\"5\" valign=\"top\">android</th>\n",
       "      <th rowspan=\"5\" valign=\"top\">female</th>\n",
       "      <th>15</th>\n",
       "      <td>38.714286</td>\n",
       "    </tr>\n",
       "    <tr>\n",
       "      <th>16</th>\n",
       "      <td>35.944444</td>\n",
       "    </tr>\n",
       "    <tr>\n",
       "      <th>17</th>\n",
       "      <td>35.666667</td>\n",
       "    </tr>\n",
       "    <tr>\n",
       "      <th>18</th>\n",
       "      <td>32.255814</td>\n",
       "    </tr>\n",
       "    <tr>\n",
       "      <th>19</th>\n",
       "      <td>35.206897</td>\n",
       "    </tr>\n",
       "    <tr>\n",
       "      <th>...</th>\n",
       "      <th>...</th>\n",
       "      <th>...</th>\n",
       "      <th>...</th>\n",
       "      <td>...</td>\n",
       "    </tr>\n",
       "    <tr>\n",
       "      <th rowspan=\"5\" valign=\"top\">usa</th>\n",
       "      <th rowspan=\"5\" valign=\"top\">ios</th>\n",
       "      <th rowspan=\"5\" valign=\"top\">male</th>\n",
       "      <th>42</th>\n",
       "      <td>30.250000</td>\n",
       "    </tr>\n",
       "    <tr>\n",
       "      <th>50</th>\n",
       "      <td>39.000000</td>\n",
       "    </tr>\n",
       "    <tr>\n",
       "      <th>53</th>\n",
       "      <td>34.000000</td>\n",
       "    </tr>\n",
       "    <tr>\n",
       "      <th>55</th>\n",
       "      <td>29.000000</td>\n",
       "    </tr>\n",
       "    <tr>\n",
       "      <th>59</th>\n",
       "      <td>46.500000</td>\n",
       "    </tr>\n",
       "  </tbody>\n",
       "</table>\n",
       "<p>348 rows × 1 columns</p>\n",
       "</div>"
      ],
      "text/plain": [
       "                                PRICE\n",
       "COUNTRY SOURCE  SEX    AGE           \n",
       "bra     android female 15   38.714286\n",
       "                       16   35.944444\n",
       "                       17   35.666667\n",
       "                       18   32.255814\n",
       "                       19   35.206897\n",
       "...                               ...\n",
       "usa     ios     male   42   30.250000\n",
       "                       50   39.000000\n",
       "                       53   34.000000\n",
       "                       55   29.000000\n",
       "                       59   46.500000\n",
       "\n",
       "[348 rows x 1 columns]"
      ]
     },
     "execution_count": 15,
     "metadata": {},
     "output_type": "execute_result"
    }
   ],
   "source": [
    "df.groupby([\"COUNTRY\",\"SOURCE\",\"SEX\",\"AGE\"]).agg({\"PRICE\" : \"mean\"})"
   ]
  },
  {
   "cell_type": "markdown",
   "id": "1d1fc817",
   "metadata": {
    "papermill": {
     "duration": 0.016354,
     "end_time": "2022-10-19T10:53:56.510827",
     "exception": false,
     "start_time": "2022-10-19T10:53:56.494473",
     "status": "completed"
    },
    "tags": []
   },
   "source": [
    "**The previous output is sorted in descending order of price. The result is saved as agg_df.**"
   ]
  },
  {
   "cell_type": "code",
   "execution_count": 16,
   "id": "1040d5c4",
   "metadata": {
    "execution": {
     "iopub.execute_input": "2022-10-19T10:53:56.538935Z",
     "iopub.status.busy": "2022-10-19T10:53:56.538567Z",
     "iopub.status.idle": "2022-10-19T10:53:56.561806Z",
     "shell.execute_reply": "2022-10-19T10:53:56.560818Z"
    },
    "papermill": {
     "duration": 0.041202,
     "end_time": "2022-10-19T10:53:56.564071",
     "exception": false,
     "start_time": "2022-10-19T10:53:56.522869",
     "status": "completed"
    },
    "tags": []
   },
   "outputs": [
    {
     "data": {
      "text/html": [
       "<div>\n",
       "<style scoped>\n",
       "    .dataframe tbody tr th:only-of-type {\n",
       "        vertical-align: middle;\n",
       "    }\n",
       "\n",
       "    .dataframe tbody tr th {\n",
       "        vertical-align: top;\n",
       "    }\n",
       "\n",
       "    .dataframe thead th {\n",
       "        text-align: right;\n",
       "    }\n",
       "</style>\n",
       "<table border=\"1\" class=\"dataframe\">\n",
       "  <thead>\n",
       "    <tr style=\"text-align: right;\">\n",
       "      <th></th>\n",
       "      <th></th>\n",
       "      <th></th>\n",
       "      <th></th>\n",
       "      <th>PRICE</th>\n",
       "    </tr>\n",
       "    <tr>\n",
       "      <th>COUNTRY</th>\n",
       "      <th>SOURCE</th>\n",
       "      <th>SEX</th>\n",
       "      <th>AGE</th>\n",
       "      <th></th>\n",
       "    </tr>\n",
       "  </thead>\n",
       "  <tbody>\n",
       "    <tr>\n",
       "      <th>bra</th>\n",
       "      <th>android</th>\n",
       "      <th>male</th>\n",
       "      <th>46</th>\n",
       "      <td>59.0</td>\n",
       "    </tr>\n",
       "    <tr>\n",
       "      <th>usa</th>\n",
       "      <th>android</th>\n",
       "      <th>male</th>\n",
       "      <th>36</th>\n",
       "      <td>59.0</td>\n",
       "    </tr>\n",
       "    <tr>\n",
       "      <th>fra</th>\n",
       "      <th>android</th>\n",
       "      <th>female</th>\n",
       "      <th>24</th>\n",
       "      <td>59.0</td>\n",
       "    </tr>\n",
       "    <tr>\n",
       "      <th>usa</th>\n",
       "      <th>ios</th>\n",
       "      <th>male</th>\n",
       "      <th>32</th>\n",
       "      <td>54.0</td>\n",
       "    </tr>\n",
       "    <tr>\n",
       "      <th>deu</th>\n",
       "      <th>android</th>\n",
       "      <th>female</th>\n",
       "      <th>36</th>\n",
       "      <td>49.0</td>\n",
       "    </tr>\n",
       "    <tr>\n",
       "      <th>...</th>\n",
       "      <th>...</th>\n",
       "      <th>...</th>\n",
       "      <th>...</th>\n",
       "      <td>...</td>\n",
       "    </tr>\n",
       "    <tr>\n",
       "      <th rowspan=\"2\" valign=\"top\">usa</th>\n",
       "      <th rowspan=\"2\" valign=\"top\">ios</th>\n",
       "      <th rowspan=\"2\" valign=\"top\">female</th>\n",
       "      <th>38</th>\n",
       "      <td>19.0</td>\n",
       "    </tr>\n",
       "    <tr>\n",
       "      <th>30</th>\n",
       "      <td>19.0</td>\n",
       "    </tr>\n",
       "    <tr>\n",
       "      <th>can</th>\n",
       "      <th>android</th>\n",
       "      <th>female</th>\n",
       "      <th>27</th>\n",
       "      <td>19.0</td>\n",
       "    </tr>\n",
       "    <tr>\n",
       "      <th>fra</th>\n",
       "      <th>android</th>\n",
       "      <th>male</th>\n",
       "      <th>18</th>\n",
       "      <td>19.0</td>\n",
       "    </tr>\n",
       "    <tr>\n",
       "      <th>deu</th>\n",
       "      <th>android</th>\n",
       "      <th>male</th>\n",
       "      <th>26</th>\n",
       "      <td>9.0</td>\n",
       "    </tr>\n",
       "  </tbody>\n",
       "</table>\n",
       "<p>348 rows × 1 columns</p>\n",
       "</div>"
      ],
      "text/plain": [
       "                            PRICE\n",
       "COUNTRY SOURCE  SEX    AGE       \n",
       "bra     android male   46    59.0\n",
       "usa     android male   36    59.0\n",
       "fra     android female 24    59.0\n",
       "usa     ios     male   32    54.0\n",
       "deu     android female 36    49.0\n",
       "...                           ...\n",
       "usa     ios     female 38    19.0\n",
       "                       30    19.0\n",
       "can     android female 27    19.0\n",
       "fra     android male   18    19.0\n",
       "deu     android male   26     9.0\n",
       "\n",
       "[348 rows x 1 columns]"
      ]
     },
     "execution_count": 16,
     "metadata": {},
     "output_type": "execute_result"
    }
   ],
   "source": [
    "agg_df = df.groupby([\"COUNTRY\",\"SOURCE\",\"SEX\",\"AGE\"]).agg({\"PRICE\" : \"mean\"}).sort_values(by = \"PRICE\", ascending = False)\n",
    "\n",
    "agg_df"
   ]
  },
  {
   "cell_type": "markdown",
   "id": "7a2ffce9",
   "metadata": {
    "papermill": {
     "duration": 0.011834,
     "end_time": "2022-10-19T10:53:56.588339",
     "exception": false,
     "start_time": "2022-10-19T10:53:56.576505",
     "status": "completed"
    },
    "tags": []
   },
   "source": [
    "**The indexes have been converted to variables and the changes have been made permanent with the inplace method.**"
   ]
  },
  {
   "cell_type": "code",
   "execution_count": 17,
   "id": "c2895438",
   "metadata": {
    "execution": {
     "iopub.execute_input": "2022-10-19T10:53:56.616064Z",
     "iopub.status.busy": "2022-10-19T10:53:56.615060Z",
     "iopub.status.idle": "2022-10-19T10:53:56.633048Z",
     "shell.execute_reply": "2022-10-19T10:53:56.632045Z"
    },
    "papermill": {
     "duration": 0.03392,
     "end_time": "2022-10-19T10:53:56.635016",
     "exception": false,
     "start_time": "2022-10-19T10:53:56.601096",
     "status": "completed"
    },
    "tags": []
   },
   "outputs": [
    {
     "data": {
      "text/html": [
       "<div>\n",
       "<style scoped>\n",
       "    .dataframe tbody tr th:only-of-type {\n",
       "        vertical-align: middle;\n",
       "    }\n",
       "\n",
       "    .dataframe tbody tr th {\n",
       "        vertical-align: top;\n",
       "    }\n",
       "\n",
       "    .dataframe thead th {\n",
       "        text-align: right;\n",
       "    }\n",
       "</style>\n",
       "<table border=\"1\" class=\"dataframe\">\n",
       "  <thead>\n",
       "    <tr style=\"text-align: right;\">\n",
       "      <th></th>\n",
       "      <th>COUNTRY</th>\n",
       "      <th>SOURCE</th>\n",
       "      <th>SEX</th>\n",
       "      <th>AGE</th>\n",
       "      <th>PRICE</th>\n",
       "    </tr>\n",
       "  </thead>\n",
       "  <tbody>\n",
       "    <tr>\n",
       "      <th>0</th>\n",
       "      <td>bra</td>\n",
       "      <td>android</td>\n",
       "      <td>male</td>\n",
       "      <td>46</td>\n",
       "      <td>59.0</td>\n",
       "    </tr>\n",
       "    <tr>\n",
       "      <th>1</th>\n",
       "      <td>usa</td>\n",
       "      <td>android</td>\n",
       "      <td>male</td>\n",
       "      <td>36</td>\n",
       "      <td>59.0</td>\n",
       "    </tr>\n",
       "    <tr>\n",
       "      <th>2</th>\n",
       "      <td>fra</td>\n",
       "      <td>android</td>\n",
       "      <td>female</td>\n",
       "      <td>24</td>\n",
       "      <td>59.0</td>\n",
       "    </tr>\n",
       "    <tr>\n",
       "      <th>3</th>\n",
       "      <td>usa</td>\n",
       "      <td>ios</td>\n",
       "      <td>male</td>\n",
       "      <td>32</td>\n",
       "      <td>54.0</td>\n",
       "    </tr>\n",
       "    <tr>\n",
       "      <th>4</th>\n",
       "      <td>deu</td>\n",
       "      <td>android</td>\n",
       "      <td>female</td>\n",
       "      <td>36</td>\n",
       "      <td>49.0</td>\n",
       "    </tr>\n",
       "    <tr>\n",
       "      <th>...</th>\n",
       "      <td>...</td>\n",
       "      <td>...</td>\n",
       "      <td>...</td>\n",
       "      <td>...</td>\n",
       "      <td>...</td>\n",
       "    </tr>\n",
       "    <tr>\n",
       "      <th>343</th>\n",
       "      <td>usa</td>\n",
       "      <td>ios</td>\n",
       "      <td>female</td>\n",
       "      <td>38</td>\n",
       "      <td>19.0</td>\n",
       "    </tr>\n",
       "    <tr>\n",
       "      <th>344</th>\n",
       "      <td>usa</td>\n",
       "      <td>ios</td>\n",
       "      <td>female</td>\n",
       "      <td>30</td>\n",
       "      <td>19.0</td>\n",
       "    </tr>\n",
       "    <tr>\n",
       "      <th>345</th>\n",
       "      <td>can</td>\n",
       "      <td>android</td>\n",
       "      <td>female</td>\n",
       "      <td>27</td>\n",
       "      <td>19.0</td>\n",
       "    </tr>\n",
       "    <tr>\n",
       "      <th>346</th>\n",
       "      <td>fra</td>\n",
       "      <td>android</td>\n",
       "      <td>male</td>\n",
       "      <td>18</td>\n",
       "      <td>19.0</td>\n",
       "    </tr>\n",
       "    <tr>\n",
       "      <th>347</th>\n",
       "      <td>deu</td>\n",
       "      <td>android</td>\n",
       "      <td>male</td>\n",
       "      <td>26</td>\n",
       "      <td>9.0</td>\n",
       "    </tr>\n",
       "  </tbody>\n",
       "</table>\n",
       "<p>348 rows × 5 columns</p>\n",
       "</div>"
      ],
      "text/plain": [
       "    COUNTRY   SOURCE     SEX  AGE  PRICE\n",
       "0       bra  android    male   46   59.0\n",
       "1       usa  android    male   36   59.0\n",
       "2       fra  android  female   24   59.0\n",
       "3       usa      ios    male   32   54.0\n",
       "4       deu  android  female   36   49.0\n",
       "..      ...      ...     ...  ...    ...\n",
       "343     usa      ios  female   38   19.0\n",
       "344     usa      ios  female   30   19.0\n",
       "345     can  android  female   27   19.0\n",
       "346     fra  android    male   18   19.0\n",
       "347     deu  android    male   26    9.0\n",
       "\n",
       "[348 rows x 5 columns]"
      ]
     },
     "execution_count": 17,
     "metadata": {},
     "output_type": "execute_result"
    }
   ],
   "source": [
    "agg_df.reset_index([\"COUNTRY\",\"SOURCE\",\"SEX\",\"AGE\"],inplace = True)\n",
    "\n",
    "agg_df"
   ]
  },
  {
   "cell_type": "markdown",
   "id": "3e99391c",
   "metadata": {
    "papermill": {
     "duration": 0.013036,
     "end_time": "2022-10-19T10:53:56.660655",
     "exception": false,
     "start_time": "2022-10-19T10:53:56.647619",
     "status": "completed"
    },
    "tags": []
   },
   "source": [
    "**The numeric variable age was converted to a categorical variable. Then the ranges were created.**"
   ]
  },
  {
   "cell_type": "code",
   "execution_count": 18,
   "id": "38bdff29",
   "metadata": {
    "execution": {
     "iopub.execute_input": "2022-10-19T10:53:56.688648Z",
     "iopub.status.busy": "2022-10-19T10:53:56.687825Z",
     "iopub.status.idle": "2022-10-19T10:53:56.709647Z",
     "shell.execute_reply": "2022-10-19T10:53:56.708483Z"
    },
    "papermill": {
     "duration": 0.038364,
     "end_time": "2022-10-19T10:53:56.711679",
     "exception": false,
     "start_time": "2022-10-19T10:53:56.673315",
     "status": "completed"
    },
    "tags": []
   },
   "outputs": [
    {
     "data": {
      "text/html": [
       "<div>\n",
       "<style scoped>\n",
       "    .dataframe tbody tr th:only-of-type {\n",
       "        vertical-align: middle;\n",
       "    }\n",
       "\n",
       "    .dataframe tbody tr th {\n",
       "        vertical-align: top;\n",
       "    }\n",
       "\n",
       "    .dataframe thead th {\n",
       "        text-align: right;\n",
       "    }\n",
       "</style>\n",
       "<table border=\"1\" class=\"dataframe\">\n",
       "  <thead>\n",
       "    <tr style=\"text-align: right;\">\n",
       "      <th></th>\n",
       "      <th>COUNTRY</th>\n",
       "      <th>SOURCE</th>\n",
       "      <th>SEX</th>\n",
       "      <th>AGE</th>\n",
       "      <th>PRICE</th>\n",
       "      <th>AGE_CAT</th>\n",
       "    </tr>\n",
       "  </thead>\n",
       "  <tbody>\n",
       "    <tr>\n",
       "      <th>0</th>\n",
       "      <td>bra</td>\n",
       "      <td>android</td>\n",
       "      <td>male</td>\n",
       "      <td>46</td>\n",
       "      <td>59.0</td>\n",
       "      <td>41_70</td>\n",
       "    </tr>\n",
       "    <tr>\n",
       "      <th>1</th>\n",
       "      <td>usa</td>\n",
       "      <td>android</td>\n",
       "      <td>male</td>\n",
       "      <td>36</td>\n",
       "      <td>59.0</td>\n",
       "      <td>31_40</td>\n",
       "    </tr>\n",
       "    <tr>\n",
       "      <th>2</th>\n",
       "      <td>fra</td>\n",
       "      <td>android</td>\n",
       "      <td>female</td>\n",
       "      <td>24</td>\n",
       "      <td>59.0</td>\n",
       "      <td>24_30</td>\n",
       "    </tr>\n",
       "    <tr>\n",
       "      <th>3</th>\n",
       "      <td>usa</td>\n",
       "      <td>ios</td>\n",
       "      <td>male</td>\n",
       "      <td>32</td>\n",
       "      <td>54.0</td>\n",
       "      <td>31_40</td>\n",
       "    </tr>\n",
       "    <tr>\n",
       "      <th>4</th>\n",
       "      <td>deu</td>\n",
       "      <td>android</td>\n",
       "      <td>female</td>\n",
       "      <td>36</td>\n",
       "      <td>49.0</td>\n",
       "      <td>31_40</td>\n",
       "    </tr>\n",
       "    <tr>\n",
       "      <th>...</th>\n",
       "      <td>...</td>\n",
       "      <td>...</td>\n",
       "      <td>...</td>\n",
       "      <td>...</td>\n",
       "      <td>...</td>\n",
       "      <td>...</td>\n",
       "    </tr>\n",
       "    <tr>\n",
       "      <th>343</th>\n",
       "      <td>usa</td>\n",
       "      <td>ios</td>\n",
       "      <td>female</td>\n",
       "      <td>38</td>\n",
       "      <td>19.0</td>\n",
       "      <td>31_40</td>\n",
       "    </tr>\n",
       "    <tr>\n",
       "      <th>344</th>\n",
       "      <td>usa</td>\n",
       "      <td>ios</td>\n",
       "      <td>female</td>\n",
       "      <td>30</td>\n",
       "      <td>19.0</td>\n",
       "      <td>24_30</td>\n",
       "    </tr>\n",
       "    <tr>\n",
       "      <th>345</th>\n",
       "      <td>can</td>\n",
       "      <td>android</td>\n",
       "      <td>female</td>\n",
       "      <td>27</td>\n",
       "      <td>19.0</td>\n",
       "      <td>24_30</td>\n",
       "    </tr>\n",
       "    <tr>\n",
       "      <th>346</th>\n",
       "      <td>fra</td>\n",
       "      <td>android</td>\n",
       "      <td>male</td>\n",
       "      <td>18</td>\n",
       "      <td>19.0</td>\n",
       "      <td>0_18</td>\n",
       "    </tr>\n",
       "    <tr>\n",
       "      <th>347</th>\n",
       "      <td>deu</td>\n",
       "      <td>android</td>\n",
       "      <td>male</td>\n",
       "      <td>26</td>\n",
       "      <td>9.0</td>\n",
       "      <td>24_30</td>\n",
       "    </tr>\n",
       "  </tbody>\n",
       "</table>\n",
       "<p>348 rows × 6 columns</p>\n",
       "</div>"
      ],
      "text/plain": [
       "    COUNTRY   SOURCE     SEX  AGE  PRICE AGE_CAT\n",
       "0       bra  android    male   46   59.0   41_70\n",
       "1       usa  android    male   36   59.0   31_40\n",
       "2       fra  android  female   24   59.0   24_30\n",
       "3       usa      ios    male   32   54.0   31_40\n",
       "4       deu  android  female   36   49.0   31_40\n",
       "..      ...      ...     ...  ...    ...     ...\n",
       "343     usa      ios  female   38   19.0   31_40\n",
       "344     usa      ios  female   30   19.0   24_30\n",
       "345     can  android  female   27   19.0   24_30\n",
       "346     fra  android    male   18   19.0    0_18\n",
       "347     deu  android    male   26    9.0   24_30\n",
       "\n",
       "[348 rows x 6 columns]"
      ]
     },
     "execution_count": 18,
     "metadata": {},
     "output_type": "execute_result"
    }
   ],
   "source": [
    "agg_df[\"AGE_CAT\"] = agg_df[\"AGE\"].astype(\"category\")\n",
    "\n",
    "agg_df[\"AGE_CAT\"] = pd.cut(agg_df.AGE_CAT,[0,18,23,30,40,70],labels = ['0_18', '19_23', '24_30', '31_40', '41_70'])\n",
    "\n",
    "agg_df"
   ]
  },
  {
   "cell_type": "markdown",
   "id": "c3874d7c",
   "metadata": {
    "papermill": {
     "duration": 0.012438,
     "end_time": "2022-10-19T10:53:56.737459",
     "exception": false,
     "start_time": "2022-10-19T10:53:56.725021",
     "status": "completed"
    },
    "tags": []
   },
   "source": [
    "**A variable named customer_level_based has been created and added to the dataset. Since there can be more than one of the same expression, singularization has been made with the groupby method.**"
   ]
  },
  {
   "cell_type": "code",
   "execution_count": 19,
   "id": "c9d8cb15",
   "metadata": {
    "execution": {
     "iopub.execute_input": "2022-10-19T10:53:56.764024Z",
     "iopub.status.busy": "2022-10-19T10:53:56.763673Z",
     "iopub.status.idle": "2022-10-19T10:53:56.779102Z",
     "shell.execute_reply": "2022-10-19T10:53:56.778161Z"
    },
    "papermill": {
     "duration": 0.031053,
     "end_time": "2022-10-19T10:53:56.781127",
     "exception": false,
     "start_time": "2022-10-19T10:53:56.750074",
     "status": "completed"
    },
    "tags": []
   },
   "outputs": [
    {
     "data": {
      "text/html": [
       "<div>\n",
       "<style scoped>\n",
       "    .dataframe tbody tr th:only-of-type {\n",
       "        vertical-align: middle;\n",
       "    }\n",
       "\n",
       "    .dataframe tbody tr th {\n",
       "        vertical-align: top;\n",
       "    }\n",
       "\n",
       "    .dataframe thead th {\n",
       "        text-align: right;\n",
       "    }\n",
       "</style>\n",
       "<table border=\"1\" class=\"dataframe\">\n",
       "  <thead>\n",
       "    <tr style=\"text-align: right;\">\n",
       "      <th></th>\n",
       "      <th>PRICE</th>\n",
       "    </tr>\n",
       "    <tr>\n",
       "      <th>customers_level_based</th>\n",
       "      <th></th>\n",
       "    </tr>\n",
       "  </thead>\n",
       "  <tbody>\n",
       "    <tr>\n",
       "      <th>BRA_ANDROID_FEMALE_0_18</th>\n",
       "      <td>35.645303</td>\n",
       "    </tr>\n",
       "    <tr>\n",
       "      <th>BRA_ANDROID_FEMALE_19_23</th>\n",
       "      <td>34.077340</td>\n",
       "    </tr>\n",
       "    <tr>\n",
       "      <th>BRA_ANDROID_FEMALE_24_30</th>\n",
       "      <td>33.863946</td>\n",
       "    </tr>\n",
       "    <tr>\n",
       "      <th>BRA_ANDROID_FEMALE_31_40</th>\n",
       "      <td>34.898326</td>\n",
       "    </tr>\n",
       "    <tr>\n",
       "      <th>BRA_ANDROID_FEMALE_41_70</th>\n",
       "      <td>36.737179</td>\n",
       "    </tr>\n",
       "    <tr>\n",
       "      <th>...</th>\n",
       "      <td>...</td>\n",
       "    </tr>\n",
       "    <tr>\n",
       "      <th>USA_IOS_MALE_0_18</th>\n",
       "      <td>33.983495</td>\n",
       "    </tr>\n",
       "    <tr>\n",
       "      <th>USA_IOS_MALE_19_23</th>\n",
       "      <td>34.901872</td>\n",
       "    </tr>\n",
       "    <tr>\n",
       "      <th>USA_IOS_MALE_24_30</th>\n",
       "      <td>34.838143</td>\n",
       "    </tr>\n",
       "    <tr>\n",
       "      <th>USA_IOS_MALE_31_40</th>\n",
       "      <td>36.206324</td>\n",
       "    </tr>\n",
       "    <tr>\n",
       "      <th>USA_IOS_MALE_41_70</th>\n",
       "      <td>35.750000</td>\n",
       "    </tr>\n",
       "  </tbody>\n",
       "</table>\n",
       "<p>109 rows × 1 columns</p>\n",
       "</div>"
      ],
      "text/plain": [
       "                              PRICE\n",
       "customers_level_based              \n",
       "BRA_ANDROID_FEMALE_0_18   35.645303\n",
       "BRA_ANDROID_FEMALE_19_23  34.077340\n",
       "BRA_ANDROID_FEMALE_24_30  33.863946\n",
       "BRA_ANDROID_FEMALE_31_40  34.898326\n",
       "BRA_ANDROID_FEMALE_41_70  36.737179\n",
       "...                             ...\n",
       "USA_IOS_MALE_0_18         33.983495\n",
       "USA_IOS_MALE_19_23        34.901872\n",
       "USA_IOS_MALE_24_30        34.838143\n",
       "USA_IOS_MALE_31_40        36.206324\n",
       "USA_IOS_MALE_41_70        35.750000\n",
       "\n",
       "[109 rows x 1 columns]"
      ]
     },
     "execution_count": 19,
     "metadata": {},
     "output_type": "execute_result"
    }
   ],
   "source": [
    "agg_df[\"customers_level_based\"] = [col[0].upper() + \"_\" + col[1].upper() + \"_\" + col[2].upper() + \"_\" + col[5] for col in agg_df.values]\n",
    "\n",
    "agg_df = agg_df.groupby(\"customers_level_based\").agg({\"PRICE\" : \"mean\"})\n",
    "\n",
    "agg_df"
   ]
  },
  {
   "cell_type": "markdown",
   "id": "27ceaa0d",
   "metadata": {
    "papermill": {
     "duration": 0.012253,
     "end_time": "2022-10-19T10:53:56.805630",
     "exception": false,
     "start_time": "2022-10-19T10:53:56.793377",
     "status": "completed"
    },
    "tags": []
   },
   "source": [
    "**Price values ​​are segmented and the Segment variable is added to the dataset.**"
   ]
  },
  {
   "cell_type": "code",
   "execution_count": 20,
   "id": "586abf04",
   "metadata": {
    "execution": {
     "iopub.execute_input": "2022-10-19T10:53:56.832762Z",
     "iopub.status.busy": "2022-10-19T10:53:56.832392Z",
     "iopub.status.idle": "2022-10-19T10:53:56.856916Z",
     "shell.execute_reply": "2022-10-19T10:53:56.855979Z"
    },
    "papermill": {
     "duration": 0.040447,
     "end_time": "2022-10-19T10:53:56.859010",
     "exception": false,
     "start_time": "2022-10-19T10:53:56.818563",
     "status": "completed"
    },
    "tags": []
   },
   "outputs": [
    {
     "data": {
      "text/html": [
       "<div>\n",
       "<style scoped>\n",
       "    .dataframe tbody tr th:only-of-type {\n",
       "        vertical-align: middle;\n",
       "    }\n",
       "\n",
       "    .dataframe tbody tr th {\n",
       "        vertical-align: top;\n",
       "    }\n",
       "\n",
       "    .dataframe thead th {\n",
       "        text-align: right;\n",
       "    }\n",
       "</style>\n",
       "<table border=\"1\" class=\"dataframe\">\n",
       "  <thead>\n",
       "    <tr style=\"text-align: right;\">\n",
       "      <th></th>\n",
       "      <th>customers_level_based</th>\n",
       "      <th>PRICE</th>\n",
       "      <th>SEGMENT</th>\n",
       "    </tr>\n",
       "  </thead>\n",
       "  <tbody>\n",
       "    <tr>\n",
       "      <th>0</th>\n",
       "      <td>BRA_ANDROID_FEMALE_0_18</td>\n",
       "      <td>35.645303</td>\n",
       "      <td>B</td>\n",
       "    </tr>\n",
       "    <tr>\n",
       "      <th>1</th>\n",
       "      <td>BRA_ANDROID_FEMALE_19_23</td>\n",
       "      <td>34.077340</td>\n",
       "      <td>C</td>\n",
       "    </tr>\n",
       "    <tr>\n",
       "      <th>2</th>\n",
       "      <td>BRA_ANDROID_FEMALE_24_30</td>\n",
       "      <td>33.863946</td>\n",
       "      <td>C</td>\n",
       "    </tr>\n",
       "    <tr>\n",
       "      <th>3</th>\n",
       "      <td>BRA_ANDROID_FEMALE_31_40</td>\n",
       "      <td>34.898326</td>\n",
       "      <td>B</td>\n",
       "    </tr>\n",
       "    <tr>\n",
       "      <th>4</th>\n",
       "      <td>BRA_ANDROID_FEMALE_41_70</td>\n",
       "      <td>36.737179</td>\n",
       "      <td>A</td>\n",
       "    </tr>\n",
       "    <tr>\n",
       "      <th>...</th>\n",
       "      <td>...</td>\n",
       "      <td>...</td>\n",
       "      <td>...</td>\n",
       "    </tr>\n",
       "    <tr>\n",
       "      <th>104</th>\n",
       "      <td>USA_IOS_MALE_0_18</td>\n",
       "      <td>33.983495</td>\n",
       "      <td>C</td>\n",
       "    </tr>\n",
       "    <tr>\n",
       "      <th>105</th>\n",
       "      <td>USA_IOS_MALE_19_23</td>\n",
       "      <td>34.901872</td>\n",
       "      <td>B</td>\n",
       "    </tr>\n",
       "    <tr>\n",
       "      <th>106</th>\n",
       "      <td>USA_IOS_MALE_24_30</td>\n",
       "      <td>34.838143</td>\n",
       "      <td>B</td>\n",
       "    </tr>\n",
       "    <tr>\n",
       "      <th>107</th>\n",
       "      <td>USA_IOS_MALE_31_40</td>\n",
       "      <td>36.206324</td>\n",
       "      <td>A</td>\n",
       "    </tr>\n",
       "    <tr>\n",
       "      <th>108</th>\n",
       "      <td>USA_IOS_MALE_41_70</td>\n",
       "      <td>35.750000</td>\n",
       "      <td>B</td>\n",
       "    </tr>\n",
       "  </tbody>\n",
       "</table>\n",
       "<p>109 rows × 3 columns</p>\n",
       "</div>"
      ],
      "text/plain": [
       "        customers_level_based      PRICE SEGMENT\n",
       "0     BRA_ANDROID_FEMALE_0_18  35.645303       B\n",
       "1    BRA_ANDROID_FEMALE_19_23  34.077340       C\n",
       "2    BRA_ANDROID_FEMALE_24_30  33.863946       C\n",
       "3    BRA_ANDROID_FEMALE_31_40  34.898326       B\n",
       "4    BRA_ANDROID_FEMALE_41_70  36.737179       A\n",
       "..                        ...        ...     ...\n",
       "104         USA_IOS_MALE_0_18  33.983495       C\n",
       "105        USA_IOS_MALE_19_23  34.901872       B\n",
       "106        USA_IOS_MALE_24_30  34.838143       B\n",
       "107        USA_IOS_MALE_31_40  36.206324       A\n",
       "108        USA_IOS_MALE_41_70  35.750000       B\n",
       "\n",
       "[109 rows x 3 columns]"
      ]
     },
     "execution_count": 20,
     "metadata": {},
     "output_type": "execute_result"
    }
   ],
   "source": [
    "agg_df[\"SEGMENT\"] = pd.qcut(agg_df[\"PRICE\"],4, labels = [\"D\",\"C\",\"B\",\"A\"])\n",
    "\n",
    "agg_df.groupby(\"SEGMENT\").agg({\"PRICE\" : [\"mean\",\"max\",\"sum\"]})\n",
    "\n",
    "agg_df = agg_df.reset_index()\n",
    "\n",
    "agg_df"
   ]
  },
  {
   "cell_type": "markdown",
   "id": "0101b1cc",
   "metadata": {
    "papermill": {
     "duration": 0.012875,
     "end_time": "2022-10-19T10:53:56.884594",
     "exception": false,
     "start_time": "2022-10-19T10:53:56.871719",
     "status": "completed"
    },
    "tags": []
   },
   "source": [
    "**A function has been created to see the revenue that potential customers can bring and to find the segment.**"
   ]
  },
  {
   "cell_type": "code",
   "execution_count": 21,
   "id": "fa6fc006",
   "metadata": {
    "execution": {
     "iopub.execute_input": "2022-10-19T10:53:56.912562Z",
     "iopub.status.busy": "2022-10-19T10:53:56.911813Z",
     "iopub.status.idle": "2022-10-19T10:53:56.919458Z",
     "shell.execute_reply": "2022-10-19T10:53:56.918628Z"
    },
    "papermill": {
     "duration": 0.024202,
     "end_time": "2022-10-19T10:53:56.921687",
     "exception": false,
     "start_time": "2022-10-19T10:53:56.897485",
     "status": "completed"
    },
    "tags": []
   },
   "outputs": [],
   "source": [
    "def find_segment():\n",
    "    COUNTRY = input(\"Enter the country (USA / BRA / DEU / TUR / FRA / CAN): \")\n",
    "    SOURCE = input(\"Enter the source (ANDROID / IOS): \")\n",
    "    SEX = input(\"Enter the sex (MALE / FEMALE): \")\n",
    "    AGE = int(input(\"Enter the age: \"))\n",
    "    if AGE < 19:\n",
    "        AGE = \"0_18\"\n",
    "    elif AGE > 18 and AGE < 24:\n",
    "        AGE = \"19_23\"\n",
    "    elif AGE > 23 and AGE < 31:\n",
    "        AGE = \"24_30\"\n",
    "    elif AGE > 30 and AGE < 41:\n",
    "        AGE = \"31_40\"\n",
    "    else:\n",
    "        AGE = \"41_70\"\n",
    "    new_user = COUNTRY + \"_\" + SOURCE + \"_\" + SEX + \"_\" + AGE\n",
    "    print(agg_df[agg_df[\"customers_level_based\"] == new_user])"
   ]
  },
  {
   "cell_type": "code",
   "execution_count": 22,
   "id": "1c3fa565",
   "metadata": {
    "_kg_hide-output": true,
    "execution": {
     "iopub.execute_input": "2022-10-19T10:53:56.949383Z",
     "iopub.status.busy": "2022-10-19T10:53:56.949049Z",
     "iopub.status.idle": "2022-10-19T10:53:57.019503Z",
     "shell.execute_reply": "2022-10-19T10:53:57.018489Z"
    },
    "papermill": {
     "duration": 0.086498,
     "end_time": "2022-10-19T10:53:57.021488",
     "exception": true,
     "start_time": "2022-10-19T10:53:56.934990",
     "status": "failed"
    },
    "tags": []
   },
   "outputs": [
    {
     "ename": "StdinNotImplementedError",
     "evalue": "raw_input was called, but this frontend does not support input requests.",
     "output_type": "error",
     "traceback": [
      "\u001b[0;31m---------------------------------------------------------------------------\u001b[0m",
      "\u001b[0;31mStdinNotImplementedError\u001b[0m                  Traceback (most recent call last)",
      "\u001b[0;32m/tmp/ipykernel_19/3820287307.py\u001b[0m in \u001b[0;36m<module>\u001b[0;34m\u001b[0m\n\u001b[0;32m----> 1\u001b[0;31m \u001b[0mfind_segment\u001b[0m\u001b[0;34m(\u001b[0m\u001b[0;34m)\u001b[0m\u001b[0;34m\u001b[0m\u001b[0;34m\u001b[0m\u001b[0m\n\u001b[0m",
      "\u001b[0;32m/tmp/ipykernel_19/1174846547.py\u001b[0m in \u001b[0;36mfind_segment\u001b[0;34m()\u001b[0m\n\u001b[1;32m      1\u001b[0m \u001b[0;32mdef\u001b[0m \u001b[0mfind_segment\u001b[0m\u001b[0;34m(\u001b[0m\u001b[0;34m)\u001b[0m\u001b[0;34m:\u001b[0m\u001b[0;34m\u001b[0m\u001b[0;34m\u001b[0m\u001b[0m\n\u001b[0;32m----> 2\u001b[0;31m     \u001b[0mCOUNTRY\u001b[0m \u001b[0;34m=\u001b[0m \u001b[0minput\u001b[0m\u001b[0;34m(\u001b[0m\u001b[0;34m\"Enter the country (USA / BRA / DEU / TUR / FRA / CAN): \"\u001b[0m\u001b[0;34m)\u001b[0m\u001b[0;34m\u001b[0m\u001b[0;34m\u001b[0m\u001b[0m\n\u001b[0m\u001b[1;32m      3\u001b[0m     \u001b[0mSOURCE\u001b[0m \u001b[0;34m=\u001b[0m \u001b[0minput\u001b[0m\u001b[0;34m(\u001b[0m\u001b[0;34m\"Enter the source (ANDROID / IOS): \"\u001b[0m\u001b[0;34m)\u001b[0m\u001b[0;34m\u001b[0m\u001b[0;34m\u001b[0m\u001b[0m\n\u001b[1;32m      4\u001b[0m     \u001b[0mSEX\u001b[0m \u001b[0;34m=\u001b[0m \u001b[0minput\u001b[0m\u001b[0;34m(\u001b[0m\u001b[0;34m\"Enter the sex (MALE / FEMALE): \"\u001b[0m\u001b[0;34m)\u001b[0m\u001b[0;34m\u001b[0m\u001b[0;34m\u001b[0m\u001b[0m\n\u001b[1;32m      5\u001b[0m     \u001b[0mAGE\u001b[0m \u001b[0;34m=\u001b[0m \u001b[0mint\u001b[0m\u001b[0;34m(\u001b[0m\u001b[0minput\u001b[0m\u001b[0;34m(\u001b[0m\u001b[0;34m\"Enter the age: \"\u001b[0m\u001b[0;34m)\u001b[0m\u001b[0;34m)\u001b[0m\u001b[0;34m\u001b[0m\u001b[0;34m\u001b[0m\u001b[0m\n",
      "\u001b[0;32m/opt/conda/lib/python3.7/site-packages/ipykernel/kernelbase.py\u001b[0m in \u001b[0;36mraw_input\u001b[0;34m(self, prompt)\u001b[0m\n\u001b[1;32m   1173\u001b[0m         \u001b[0;32mif\u001b[0m \u001b[0;32mnot\u001b[0m \u001b[0mself\u001b[0m\u001b[0;34m.\u001b[0m\u001b[0m_allow_stdin\u001b[0m\u001b[0;34m:\u001b[0m\u001b[0;34m\u001b[0m\u001b[0;34m\u001b[0m\u001b[0m\n\u001b[1;32m   1174\u001b[0m             raise StdinNotImplementedError(\n\u001b[0;32m-> 1175\u001b[0;31m                 \u001b[0;34m\"raw_input was called, but this frontend does not support input requests.\"\u001b[0m\u001b[0;34m\u001b[0m\u001b[0;34m\u001b[0m\u001b[0m\n\u001b[0m\u001b[1;32m   1176\u001b[0m             )\n\u001b[1;32m   1177\u001b[0m         return self._input_request(\n",
      "\u001b[0;31mStdinNotImplementedError\u001b[0m: raw_input was called, but this frontend does not support input requests."
     ]
    }
   ],
   "source": [
    "find_segment()"
   ]
  }
 ],
 "metadata": {
  "kernelspec": {
   "display_name": "Python 3",
   "language": "python",
   "name": "python3"
  },
  "language_info": {
   "codemirror_mode": {
    "name": "ipython",
    "version": 3
   },
   "file_extension": ".py",
   "mimetype": "text/x-python",
   "name": "python",
   "nbconvert_exporter": "python",
   "pygments_lexer": "ipython3",
   "version": "3.7.12"
  },
  "papermill": {
   "default_parameters": {},
   "duration": 10.448004,
   "end_time": "2022-10-19T10:53:57.655339",
   "environment_variables": {},
   "exception": true,
   "input_path": "__notebook__.ipynb",
   "output_path": "__notebook__.ipynb",
   "parameters": {},
   "start_time": "2022-10-19T10:53:47.207335",
   "version": "2.3.4"
  }
 },
 "nbformat": 4,
 "nbformat_minor": 5
}
